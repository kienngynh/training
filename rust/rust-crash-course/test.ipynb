{
 "cells": [
  {
   "attachments": {},
   "cell_type": "markdown",
   "id": "33ccff4e",
   "metadata": {},
   "source": [
    "# Chương 1\n",
    "\n",
    "## Cài đặt Rust\n",
    "\n",
    "``` bash\n",
    " curl --proto ‘=https’ --tlsv1.2 https://sh.rustup.rs -sSf | sh\n",
    "```\n",
    "\n",
    "  - **rustc**: là trình biên dịch của Rust. Thông thường trình biên dịch\n",
    "    *rustc* sẽ được gọi thông qua *cargo* mà không được gọi trực tiếp.\n",
    "  - **cargo**: là công cụ xây dựng và quản lý gói của Rust. Có thể sử\n",
    "    dụng *cargo* để tạo một dự án mới, xây dựng và chạy chương trình.\n",
    "    và quản lý bất kỳ thư viện mở rộng nào mà chương trình cần.\n",
    "  - **rustdoc**: là công cụ tài liệu của Rust, có thể sử dụng *cargo* để\n",
    "    chạy *rustdoc*.\n",
    "\n",
    "## Cập nhật và gỡ cài đặt\n",
    "\n",
    "``` bash\n",
    "rustup update\n",
    "rustup self uninstall\n",
    "```\n",
    "\n",
    "## Làm việc với Cargo\n",
    "\n",
    "  - Cargo.toml: file cấu hình dự án\n",
    "      - \\[dependencies\\]: chứa các gói thư viện hoặc file nhị phân\n",
    "      - \\[dev-dependencies\\]: chứa các dependencies; cho việc ví dụ,\n",
    "        test, và benchmark\n",
    "      - \\[build-dependencies\\]: phần này có thể chỉ định các\n",
    "        dependencies của cargo khác để sử dụng trong kịch bản của dự án\n",
    "      - \\[target\\]: phần này được sử dụng để biên dịch chéo mã cho những\n",
    "        mục tiêu khác\n",
    "  - Một số lệnh cargo:\n",
    "\n",
    "<!-- end list -->\n",
    "\n",
    "``` bash\n",
    "cargo new # tạo thư mục dự án mới\n",
    "cargo init # khởi tạo dự án trong thư mục đã tạo\n",
    "cargo check # kiểm tra code và biên dịch nhưng không tạo file thực thi\n",
    "cargo run # build và run chương trình\n",
    "cargo build --dev # build chương trình mặc định\n",
    "cargo build --release # cho phép xuất bản hồ sơ\n",
    "cargo build --test # build chương trình thử\n",
    "cargo build --bench # tạo chương trình benchmark\n",
    "```\n"
   ]
  },
  {
   "cell_type": "markdown",
   "id": "9afc18fa",
   "metadata": {},
   "source": [
    "# Chương 2\n",
    "\n",
    "## Variables"
   ]
  },
  {
   "cell_type": "code",
   "execution_count": 3,
   "id": "b6a0aeaa",
   "metadata": {
    "vscode": {
     "languageId": "rust"
    }
   },
   "outputs": [
    {
     "name": "stdout",
     "output_type": "stream",
     "text": [
      "x = 17\n"
     ]
    }
   ],
   "source": [
    "let x = 17;\n",
    "println!(\"x = {}\", x);"
   ]
  },
  {
   "attachments": {},
   "cell_type": "markdown",
   "id": "5da0b1d7",
   "metadata": {},
   "source": [
    "## Mutability\n",
    "\n",
    "  - Trong ngôn ngữ Rust, khi khai báo một biến thì biến đó mặc định được\n",
    "    coi là bất biến, giá trị của biến đó không thể thay đổi.\n",
    "  - Để cho biết biến đó là biến có thể thay đổi giá trị, cần thêm mut ở\n",
    "    trước tên biến.\n"
   ]
  },
  {
   "cell_type": "code",
   "execution_count": 4,
   "id": "05ce8424",
   "metadata": {
    "vscode": {
     "languageId": "rust"
    }
   },
   "outputs": [
    {
     "name": "stdout",
     "output_type": "stream",
     "text": [
      "x = 26\n"
     ]
    },
    {
     "name": "stdout",
     "output_type": "stream",
     "text": [
      "x = 11\n"
     ]
    }
   ],
   "source": [
    "let mut x = 26;\n",
    "println!(\"x = {}\", x);\n",
    "x = 11;\n",
    "println!(\"x = {}\", x);\n"
   ]
  },
  {
   "attachments": {},
   "cell_type": "markdown",
   "id": "d6a27693",
   "metadata": {},
   "source": [
    "## Kiểu dữ liệu\n",
    "\n",
    "  - Do là một ngôn ngữ lập trình tĩnh nên tại thời điểm biên dịch, Rust\n",
    "    phải biết kiểu dữ liệu của biến\n",
    "  - Có hai dạng dữ liệu chính trong Rust: Scalar và Compound.\n"
   ]
  },
  {
   "cell_type": "code",
   "execution_count": 5,
   "id": "47cd5da5",
   "metadata": {
    "vscode": {
     "languageId": "rust"
    }
   },
   "outputs": [
    {
     "name": "stdout",
     "output_type": "stream",
     "text": [
      "10\n"
     ]
    }
   ],
   "source": [
    "let y:u32 = \"10\".parse().unwrap();\n",
    "println!(\"{}\",y);\n"
   ]
  },
  {
   "attachments": {},
   "cell_type": "markdown",
   "id": "8d921dc7",
   "metadata": {},
   "source": [
    "### Scalar data types\n",
    "\n",
    "1.  Integer\n",
    "\n",
    "<!-- end list -->\n",
    "\n",
    "  - Số nguyên là đại diện cho các số không có phân số. Có nhiều cách\n",
    "    khác nhau để đại diện cho số nguyên trong Rust, tuỳ thuộc vào số\n",
    "    lượng bit có dấu hoặc không có dấu\n",
    "\n",
    "| Số lượng bit          | Có dấu       | Không dấu |\n",
    "| :-------------------- | :----------- | :-------- |\n",
    "| 8-bit                 | i8           | u8        |\n",
    "| 16-bit                | i16          | u16       |\n",
    "| 32-bit                | i32(default) | u32       |\n",
    "| 64-bit                | i64          | u64       |\n",
    "| 128-bit               | i128         | u128      |\n",
    "| architecture-specific | isize        | usize     |\n",
    "\n",
    "2.  Floating-point\n",
    "\n",
    "<!-- end list -->\n",
    "\n",
    "  - Trong Rust có cung cấp kiểu dữ liệu f32 và f64(mặc định) để chứa số\n",
    "    thập phân\n"
   ]
  },
  {
   "cell_type": "code",
   "execution_count": 6,
   "id": "9587f035",
   "metadata": {
    "vscode": {
     "languageId": "rust"
    }
   },
   "outputs": [
    {
     "name": "stdout",
     "output_type": "stream",
     "text": [
      "3 3 3\n"
     ]
    }
   ],
   "source": [
    "let x: f64 = 3.0;\n",
    "let y = 3.0f64;\n",
    "let z = 3.0 as f64;\n",
    "println!(\"{} {} {}\",x,y,z);\n"
   ]
  },
  {
   "attachments": {},
   "cell_type": "markdown",
   "id": "24c85ed0",
   "metadata": {},
   "source": [
    "3.  Boolean\n",
    "\n",
    "<!-- end list -->\n",
    "\n",
    "  - Kiểu dữ liệu boolean chứa 2 giá trị: true hoặc false và có một byte\n",
    "    dung lượng, thường được sự dụng trong mệnh đề điều kiện…"
   ]
  },
  {
   "cell_type": "code",
   "execution_count": 7,
   "id": "058fe3c6",
   "metadata": {
    "vscode": {
     "languageId": "rust"
    }
   },
   "outputs": [
    {
     "name": "stdout",
     "output_type": "stream",
     "text": [
      "true false\n"
     ]
    }
   ],
   "source": [
    "let t = true;\n",
    "let f:bool = false;\n",
    "println!(\"{} {}\",t,f);"
   ]
  },
  {
   "attachments": {},
   "cell_type": "markdown",
   "id": "534fe1cf",
   "metadata": {},
   "source": [
    "4. Character\n",
    "\n",
    "- Kiểu dữ liệu char được dùng để biểu đạt ký tự đơn giống một chữ hoặc một số. Character trong Rust là giá trị Unicode và có dung lượng 4 bytes, khác với trong C++ nơi ký tự chỉ có dung lượng 1 byte. Vì thế chúng ta có thể sử dụng kiểu dữ liệu char cho cả emoji...\n"
   ]
  },
  {
   "cell_type": "code",
   "execution_count": 11,
   "id": "2a57dff9",
   "metadata": {
    "vscode": {
     "languageId": "rust"
    }
   },
   "outputs": [
    {
     "name": "stdout",
     "output_type": "stream",
     "text": [
      "c1 =a, c2 = 5, c3 = ☺\n"
     ]
    }
   ],
   "source": [
    "let c1 = 'a';\n",
    "let c2 = '5';\n",
    "let c3 = '\\u{263A}';\n",
    "println!(\"c1 ={}, c2 = {}, c3 = {}\", c1, c2, c3);"
   ]
  },
  {
   "attachments": {},
   "cell_type": "markdown",
   "id": "038dc3bd",
   "metadata": {},
   "source": [
    "### Compound data types"
   ]
  }
 ],
 "metadata": {
  "kernelspec": {
   "display_name": "Rust",
   "language": "rust",
   "name": "rust"
  },
  "language_info": {
   "codemirror_mode": "rust",
   "file_extension": ".rs",
   "mimetype": "text/rust",
   "name": "Rust",
   "pygment_lexer": "rust",
   "version": ""
  }
 },
 "nbformat": 4,
 "nbformat_minor": 5
}
